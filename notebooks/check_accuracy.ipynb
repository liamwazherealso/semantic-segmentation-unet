{
 "cells": [
  {
   "cell_type": "code",
   "execution_count": 15,
   "id": "c93949f4-b65b-4d4a-af16-bf36d0dd603d",
   "metadata": {},
   "outputs": [],
   "source": [
    "import torch\n",
    "import model\n",
    "import utils\n",
    "import train"
   ]
  },
  {
   "cell_type": "code",
   "execution_count": 16,
   "id": "fe7bdfc3-56ab-4681-9619-d38a0c0f7d49",
   "metadata": {},
   "outputs": [],
   "source": [
    "DEVICE = \"cuda\" if torch.cuda.is_available() else \"cpu\""
   ]
  },
  {
   "cell_type": "code",
   "execution_count": 17,
   "id": "3a4fcb09-7473-4c8e-ab60-2ee31b6d9460",
   "metadata": {},
   "outputs": [],
   "source": [
    "unet = model.UNET(in_channels=3, out_channels=1).to(DEVICE)"
   ]
  },
  {
   "cell_type": "code",
   "execution_count": 18,
   "id": "bc42e157-6360-4aad-b2fd-30ef3d47d499",
   "metadata": {},
   "outputs": [
    {
     "name": "stdout",
     "output_type": "stream",
     "text": [
      "=> Loading checkpoint\n"
     ]
    }
   ],
   "source": [
    "utils.load_checkpoint(torch.load('my_checkpoint.pth.tar'), unet)"
   ]
  },
  {
   "cell_type": "code",
   "execution_count": 19,
   "id": "91b32f1f-567d-4080-b0aa-55376e95ba1a",
   "metadata": {},
   "outputs": [
    {
     "name": "stdout",
     "output_type": "stream",
     "text": [
      "Got 38863272/39052800 with acc 99.51\n",
      "Dice score: 0.9885150790214539\n"
     ]
    }
   ],
   "source": [
    "train_transforms = train.get_train_transforms()\n",
    "val_transforms = train.get_val_transforms()\n",
    "\n",
    "# the original code both loaders are together.\n",
    "_, val_loader = train._get_loaders(train_transforms, val_transforms, True)\n",
    "utils.check_accuracy(val_loader, unet, device=DEVICE)"
   ]
  },
  {
   "cell_type": "code",
   "execution_count": null,
   "id": "0ccc6f80-34af-4c2e-b035-c603094c1f6e",
   "metadata": {},
   "outputs": [],
   "source": []
  }
 ],
 "metadata": {
  "kernelspec": {
   "display_name": "Python 3 (ipykernel)",
   "language": "python",
   "name": "python3"
  },
  "language_info": {
   "codemirror_mode": {
    "name": "ipython",
    "version": 3
   },
   "file_extension": ".py",
   "mimetype": "text/x-python",
   "name": "python",
   "nbconvert_exporter": "python",
   "pygments_lexer": "ipython3",
   "version": "3.10.8"
  }
 },
 "nbformat": 4,
 "nbformat_minor": 5
}
