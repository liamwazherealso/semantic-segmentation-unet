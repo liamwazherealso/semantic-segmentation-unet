{
 "cells": [
  {
   "cell_type": "code",
   "execution_count": 1,
   "id": "feab5ea0-049a-4f7c-b732-e585b7b057f5",
   "metadata": {},
   "outputs": [],
   "source": [
    "import torch\n",
    "from torch import nn\n",
    "import torch.nn.utils.prune as prune\n",
    "import torch.nn.functional as F\n",
    "\n",
    "import model\n",
    "import utils\n",
    "import train\n",
    "import prune \n",
    "import numpy as np"
   ]
  },
  {
   "cell_type": "code",
   "execution_count": 2,
   "id": "72c14070-c9c6-4df9-a332-60d951514691",
   "metadata": {},
   "outputs": [],
   "source": [
    "MODEL_NAME = \"22_10_16_unet_seal\"\n",
    "\n",
    "meta_data = utils.load_metadata(MODEL_NAME)"
   ]
  },
  {
   "cell_type": "code",
   "execution_count": 4,
   "id": "85d878e4-4c1a-4fa7-a26d-51ecc2ca3618",
   "metadata": {},
   "outputs": [
    {
     "name": "stdout",
     "output_type": "stream",
     "text": [
      "=> Loading checkpoint\n",
      "Got 30803272/39052800 with acc 78.88\n",
      "Dice score: 0.00017481442773714662\n",
      "=> Loading checkpoint\n",
      "Got 30832300/39052800 with acc 78.95\n",
      "Dice score: 0.007201795000582933\n",
      "=> Loading checkpoint\n",
      "Got 30802563/39052800 with acc 78.87\n",
      "Dice score: 4.6459962277367595e-07\n"
     ]
    }
   ],
   "source": [
    "train_transforms = train.get_train_transforms()\n",
    "val_transforms = train.get_val_transforms()\n",
    "\n",
    "# the original code both loaders are together.\n",
    "_, val_loader = train._get_loaders(train_transforms, val_transforms, True)\n",
    "\n",
    "\n",
    "conf = utils.Config()\n",
    "\n",
    "for amount in np.linspace(0.1,0.3, num=3):\n",
    "\n",
    "    unet = model.UNET(in_channels=3, out_channels=1).to(conf.DEVICE)\n",
    "    utils.load_checkpoint(torch.load(f'../models/{MODEL_NAME}.pth.tar'), unet)\n",
    "    \n",
    "    prune.prune_modules(unet.downs, amount=amount)\n",
    "    \n",
    "    utils.check_accuracy(val_loader, unet, device=conf.DEVICE)\n",
    "    "
   ]
  },
  {
   "cell_type": "code",
   "execution_count": null,
   "id": "7e9c0def-633f-4af6-b39d-7ad6b390033f",
   "metadata": {},
   "outputs": [],
   "source": []
  }
 ],
 "metadata": {
  "kernelspec": {
   "display_name": "Python 3 (ipykernel)",
   "language": "python",
   "name": "python3"
  },
  "language_info": {
   "codemirror_mode": {
    "name": "ipython",
    "version": 3
   },
   "file_extension": ".py",
   "mimetype": "text/x-python",
   "name": "python",
   "nbconvert_exporter": "python",
   "pygments_lexer": "ipython3",
   "version": "3.10.8"
  }
 },
 "nbformat": 4,
 "nbformat_minor": 5
}
